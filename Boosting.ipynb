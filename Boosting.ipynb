{
  "nbformat": 4,
  "nbformat_minor": 0,
  "metadata": {
    "colab": {
      "provenance": []
    },
    "kernelspec": {
      "name": "python3",
      "display_name": "Python 3"
    },
    "language_info": {
      "name": "python"
    }
  },
  "cells": [
    {
      "cell_type": "code",
      "source": [
        "import pandas as pd\n",
        "import numpy as np\n",
        "import matplotlib.pyplot as plt\n",
        "import seaborn as sns\n",
        "\n",
        "import warnings\n",
        "warnings.filterwarnings('ignore')"
      ],
      "metadata": {
        "id": "iYlwvcVOu_X5"
      },
      "execution_count": null,
      "outputs": []
    },
    {
      "cell_type": "code",
      "source": [
        "!pip install catboost"
      ],
      "metadata": {
        "colab": {
          "base_uri": "https://localhost:8080/"
        },
        "id": "Vmoy6i5q-AZf",
        "outputId": "e0ca53a2-a4d0-4bc2-e248-3b139cd43abe"
      },
      "execution_count": null,
      "outputs": [
        {
          "output_type": "stream",
          "name": "stdout",
          "text": [
            "Requirement already satisfied: catboost in /usr/local/lib/python3.11/dist-packages (1.2.8)\n",
            "Requirement already satisfied: graphviz in /usr/local/lib/python3.11/dist-packages (from catboost) (0.21)\n",
            "Requirement already satisfied: matplotlib in /usr/local/lib/python3.11/dist-packages (from catboost) (3.10.0)\n",
            "Requirement already satisfied: numpy<3.0,>=1.16.0 in /usr/local/lib/python3.11/dist-packages (from catboost) (2.0.2)\n",
            "Requirement already satisfied: pandas>=0.24 in /usr/local/lib/python3.11/dist-packages (from catboost) (2.2.2)\n",
            "Requirement already satisfied: scipy in /usr/local/lib/python3.11/dist-packages (from catboost) (1.15.3)\n",
            "Requirement already satisfied: plotly in /usr/local/lib/python3.11/dist-packages (from catboost) (5.24.1)\n",
            "Requirement already satisfied: six in /usr/local/lib/python3.11/dist-packages (from catboost) (1.17.0)\n",
            "Requirement already satisfied: python-dateutil>=2.8.2 in /usr/local/lib/python3.11/dist-packages (from pandas>=0.24->catboost) (2.9.0.post0)\n",
            "Requirement already satisfied: pytz>=2020.1 in /usr/local/lib/python3.11/dist-packages (from pandas>=0.24->catboost) (2025.2)\n",
            "Requirement already satisfied: tzdata>=2022.7 in /usr/local/lib/python3.11/dist-packages (from pandas>=0.24->catboost) (2025.2)\n",
            "Requirement already satisfied: contourpy>=1.0.1 in /usr/local/lib/python3.11/dist-packages (from matplotlib->catboost) (1.3.2)\n",
            "Requirement already satisfied: cycler>=0.10 in /usr/local/lib/python3.11/dist-packages (from matplotlib->catboost) (0.12.1)\n",
            "Requirement already satisfied: fonttools>=4.22.0 in /usr/local/lib/python3.11/dist-packages (from matplotlib->catboost) (4.58.4)\n",
            "Requirement already satisfied: kiwisolver>=1.3.1 in /usr/local/lib/python3.11/dist-packages (from matplotlib->catboost) (1.4.8)\n",
            "Requirement already satisfied: packaging>=20.0 in /usr/local/lib/python3.11/dist-packages (from matplotlib->catboost) (24.2)\n",
            "Requirement already satisfied: pillow>=8 in /usr/local/lib/python3.11/dist-packages (from matplotlib->catboost) (11.2.1)\n",
            "Requirement already satisfied: pyparsing>=2.3.1 in /usr/local/lib/python3.11/dist-packages (from matplotlib->catboost) (3.2.3)\n",
            "Requirement already satisfied: tenacity>=6.2.0 in /usr/local/lib/python3.11/dist-packages (from plotly->catboost) (9.1.2)\n"
          ]
        }
      ]
    },
    {
      "cell_type": "code",
      "source": [
        "'''\n",
        "Q14. Train an AdaBoost Classifier on a sample dataset and print model accuracy\n",
        "'''\n",
        "#load datsets\n",
        "from sklearn.datasets import load_iris\n",
        "data=load_iris()\n",
        "\n",
        "#make dataframe\n",
        "df=pd.DataFrame(data.data,columns=data.feature_names)\n",
        "df['target']=data.target\n",
        "\n",
        "#make x and y\n",
        "x=df.iloc[:,:-1]\n",
        "y=df.iloc[:,-1]\n",
        "\n",
        "#train test split\n",
        "from sklearn.model_selection import train_test_split\n",
        "x_train,x_test,y_train,y_test=train_test_split(x,y,test_size=0.3,random_state=1)\n",
        "\n",
        "#make classifier and fit\n",
        "from sklearn.ensemble import AdaBoostClassifier\n",
        "clf = AdaBoostClassifier(n_estimators=50)\n",
        "clf.fit(x_train, y_train)\n",
        "\n",
        "#predict and print accuracy score\n",
        "from sklearn.metrics import accuracy_score\n",
        "y_pred = clf.predict(x_test)\n",
        "print(\"AdaBoost Classifier Accuracy:\", accuracy_score(y_test, y_pred))"
      ],
      "metadata": {
        "colab": {
          "base_uri": "https://localhost:8080/"
        },
        "id": "sflYglKYwgRR",
        "outputId": "706bcaf1-a5f6-449a-c46d-2ae2f851bc30"
      },
      "execution_count": null,
      "outputs": [
        {
          "output_type": "stream",
          "name": "stdout",
          "text": [
            "AdaBoost Classifier Accuracy: 0.9555555555555556\n"
          ]
        }
      ]
    },
    {
      "cell_type": "code",
      "source": [
        "'''\n",
        "Q15. Train an AdaBoost Regressor and evaluate performance using Mean Absolute\n",
        "Error (MAE)\n",
        "'''\n",
        "#load datsets\n",
        "from sklearn.datasets import fetch_california_housing\n",
        "data=fetch_california_housing()\n",
        "\n",
        "#make dataframe\n",
        "df=pd.DataFrame(data.data,columns=data.feature_names)\n",
        "df['Price']=data.target\n",
        "\n",
        "#make x and y\n",
        "x=df.iloc[:,:-1]\n",
        "y=df.iloc[:,-1]\n",
        "\n",
        "#train test split\n",
        "from sklearn.model_selection import train_test_split\n",
        "x_train,x_test,y_train,y_test=train_test_split(x,y,test_size=0.3,random_state=1)\n",
        "\n",
        "#make classifier and fit\n",
        "from sklearn.ensemble import AdaBoostRegressor\n",
        "clf = AdaBoostRegressor(n_estimators=50)\n",
        "clf.fit(x_train, y_train)\n",
        "\n",
        "#predict and print accuracy score\n",
        "from sklearn.metrics import mean_absolute_error\n",
        "y_pred = clf.predict(x_test)\n",
        "print(\"AdaBoost Regressor Accuracy:\", mean_absolute_error(y_test, y_pred))"
      ],
      "metadata": {
        "colab": {
          "base_uri": "https://localhost:8080/"
        },
        "id": "3TWbIU_Rwhxe",
        "outputId": "a22a4376-97b9-4532-fe81-4bb5c79e55e2"
      },
      "execution_count": null,
      "outputs": [
        {
          "output_type": "stream",
          "name": "stdout",
          "text": [
            "AdaBoost Regressor Accuracy: 0.7207100910467211\n"
          ]
        }
      ]
    },
    {
      "cell_type": "code",
      "source": [
        "'''\n",
        "Q16. Train a Gradient Boosting Classifier on the Breast Cancer dataset and\n",
        "print feature importance\n",
        "'''\n",
        "#load datsets\n",
        "from sklearn.datasets import load_breast_cancer\n",
        "data=load_breast_cancer()\n",
        "\n",
        "#make dataframe\n",
        "df=pd.DataFrame(data.data,columns=data.feature_names)\n",
        "df['Target']=data.target\n",
        "\n",
        "#make x and y\n",
        "x=df.iloc[:,:-1]\n",
        "y=df.iloc[:,-1]\n",
        "\n",
        "#train test split\n",
        "from sklearn.model_selection import train_test_split\n",
        "x_train,x_test,y_train,y_test=train_test_split(x,y,test_size=0.2,random_state=1)\n",
        "\n",
        "#make classifier and fit\n",
        "from sklearn.ensemble import GradientBoostingClassifier\n",
        "clf = GradientBoostingClassifier(n_estimators=100)\n",
        "clf.fit(x_train, y_train)\n",
        "print(\"Feature Importances:\", clf.feature_importances_)"
      ],
      "metadata": {
        "colab": {
          "base_uri": "https://localhost:8080/"
        },
        "id": "UhaWIXD0ySGL",
        "outputId": "619809e3-f1d5-4fbf-e320-fd98330c45c5"
      },
      "execution_count": null,
      "outputs": [
        {
          "output_type": "stream",
          "name": "stdout",
          "text": [
            "Feature Importances: [1.07886492e-04 2.76622358e-02 1.11680121e-03 6.09486267e-04\n",
            " 9.38990255e-04 3.49966144e-04 1.01962629e-02 4.63310410e-02\n",
            " 5.70484453e-05 1.74010879e-05 2.85810388e-03 1.08111319e-04\n",
            " 1.54827800e-03 6.30639113e-03 7.60067387e-05 6.72687234e-04\n",
            " 1.59198533e-03 9.02821248e-04 7.63744337e-05 7.45757385e-04\n",
            " 1.09144444e-01 5.19200803e-02 4.02466986e-01 2.30606938e-01\n",
            " 7.00054823e-03 1.80924567e-03 1.66567458e-02 7.76806986e-02\n",
            " 5.11793991e-05 3.89498204e-04]\n"
          ]
        }
      ]
    },
    {
      "cell_type": "code",
      "source": [
        "'''\n",
        "Q17. Train a Gradient Boosting Regressor and evaluate using R-Squared Score\n",
        "'''\n",
        "#load datsets\n",
        "from sklearn.datasets import fetch_california_housing\n",
        "data=fetch_california_housing()\n",
        "\n",
        "#make dataframe\n",
        "df=pd.DataFrame(data.data,columns=data.feature_names)\n",
        "df['Price']=data.target\n",
        "\n",
        "#make x and y\n",
        "x=df.iloc[:,:-1]\n",
        "y=df.iloc[:,-1]\n",
        "\n",
        "#train test split\n",
        "from sklearn.model_selection import train_test_split\n",
        "x_train,x_test,y_train,y_test=train_test_split(x,y,test_size=0.3,random_state=1)\n",
        "\n",
        "#make classifier and fit\n",
        "from sklearn.ensemble import GradientBoostingRegressor\n",
        "clf = GradientBoostingRegressor(n_estimators=50)\n",
        "clf.fit(x_train, y_train)\n",
        "\n",
        "#predict and print accuracy score\n",
        "from sklearn.metrics import r2_score\n",
        "y_pred = clf.predict(x_test)\n",
        "print(\"Gradient Boosting Regressor R-Squared score:\", r2_score(y_test, y_pred))"
      ],
      "metadata": {
        "colab": {
          "base_uri": "https://localhost:8080/"
        },
        "id": "iakzjVL31ebn",
        "outputId": "90138fc1-f368-4997-8bd8-fb8a0cb2a325"
      },
      "execution_count": null,
      "outputs": [
        {
          "output_type": "stream",
          "name": "stdout",
          "text": [
            "Gradient Boosting Regressor R-Squared score: 0.755131015234003\n"
          ]
        }
      ]
    },
    {
      "cell_type": "code",
      "source": [
        "'''\n",
        "Q18. Train an XGBoost Classifier on a dataset and compare accuracy with\n",
        "Gradient Boosting\n",
        "'''\n",
        "#load datsets\n",
        "from sklearn.datasets import load_breast_cancer\n",
        "data=load_breast_cancer()\n",
        "\n",
        "#make dataframe\n",
        "df=pd.DataFrame(data.data,columns=data.feature_names)\n",
        "df['Price']=data.target\n",
        "\n",
        "#make x and y\n",
        "x=df.iloc[:,:-1]\n",
        "y=df.iloc[:,-1]\n",
        "\n",
        "#train test split\n",
        "from sklearn.model_selection import train_test_split\n",
        "x_train,x_test,y_train,y_test=train_test_split(x,y,test_size=0.3,random_state=1)\n",
        "\n",
        "#make classifier and fit for gradient boosting classifier\n",
        "from sklearn.ensemble import GradientBoostingClassifier\n",
        "from sklearn.metrics import accuracy_score\n",
        "clf = GradientBoostingClassifier(n_estimators=50)\n",
        "clf.fit(x_train, y_train)\n",
        "y_pred_gb = clf.predict(x_test)\n",
        "gb_accuracy = accuracy_score(y_test, y_pred_gb)\n",
        "\n",
        "#make classifier and fit for XGBoost classifier\n",
        "from xgboost import XGBClassifier\n",
        "xgb = XGBClassifier(eval_metric='mlogloss', use_label_encoder=False)\n",
        "xgb.fit(x_train, y_train)\n",
        "y_pred_xgb = xgb.predict(x_test)\n",
        "xgb_accuracy = accuracy_score(y_test, y_pred_xgb)\n",
        "\n",
        "#print accuracy score\n",
        "print(\"Gradient Boosting Accuracy:\", gb_accuracy)\n",
        "print(\"XGBoost Accuracy:\", xgb_accuracy)\n"
      ],
      "metadata": {
        "colab": {
          "base_uri": "https://localhost:8080/"
        },
        "id": "ozq5ZKGn2NzA",
        "outputId": "7caa89e7-bc46-468c-da66-a9531c88e4fb"
      },
      "execution_count": null,
      "outputs": [
        {
          "output_type": "stream",
          "name": "stdout",
          "text": [
            "Gradient Boosting Accuracy: 0.9649122807017544\n",
            "XGBoost Accuracy: 0.9415204678362573\n"
          ]
        }
      ]
    },
    {
      "cell_type": "code",
      "source": [
        "'''\n",
        "Q19. Train a CatBoost Classifier and evaluate using F1-Score\n",
        "'''\n",
        "#load datsets\n",
        "from sklearn.datasets import load_breast_cancer\n",
        "data=load_breast_cancer()\n",
        "\n",
        "#make dataframe\n",
        "df=pd.DataFrame(data.data,columns=data.feature_names)\n",
        "df['Target']=data.target\n",
        "\n",
        "#make x and y\n",
        "x=df.iloc[:,:-1]\n",
        "y=df.iloc[:,-1]\n",
        "\n",
        "#train test split\n",
        "from sklearn.model_selection import train_test_split\n",
        "x_train,x_test,y_train,y_test=train_test_split(x,y,test_size=0.3,random_state=1)\n",
        "\n",
        "#make classifier and fit\n",
        "from catboost import CatBoostClassifier\n",
        "clf = CatBoostClassifier(verbose=0)\n",
        "clf.fit(x_train, y_train)\n",
        "\n",
        "#predict and print accuracy score\n",
        "from sklearn.metrics import f1_score\n",
        "y_pred = clf.predict(x_test)\n",
        "print(\"F1 score\",f1_score(y_test, y_pred))"
      ],
      "metadata": {
        "colab": {
          "base_uri": "https://localhost:8080/"
        },
        "id": "zqtnC8mb62Wx",
        "outputId": "60e697a2-3e2e-453d-91df-ec2c7745b304"
      },
      "execution_count": null,
      "outputs": [
        {
          "output_type": "stream",
          "name": "stdout",
          "text": [
            "F1 score 0.963302752293578\n"
          ]
        }
      ]
    },
    {
      "cell_type": "code",
      "source": [
        "'''\n",
        "Q20. Train an XGBoost Regressor and evaluate using Mean Squared Error (MSE)\n",
        "'''\n",
        "#load datsets\n",
        "from sklearn.datasets import fetch_california_housing\n",
        "data=fetch_california_housing()\n",
        "\n",
        "#make dataframe\n",
        "df=pd.DataFrame(data.data,columns=data.feature_names)\n",
        "df['Price']=data.target\n",
        "\n",
        "#make x and y\n",
        "x=df.iloc[:,:-1]\n",
        "y=df.iloc[:,-1]\n",
        "\n",
        "#train test split\n",
        "from sklearn.model_selection import train_test_split\n",
        "x_train,x_test,y_train,y_test=train_test_split(x,y,test_size=0.3,random_state=1)\n",
        "\n",
        "#make classifier and fit for XGBoot Regreessor\n",
        "from xgboost import XGBRegressor\n",
        "xgb = XGBRegressor(eval_metric='mlogloss', use_label_encoder=False)\n",
        "xgb.fit(x_train, y_train)\n",
        "\n",
        "#print MSE\n",
        "from sklearn.metrics import mean_squared_error\n",
        "y_pred = xgb.predict(x_test)\n",
        "mse=mean_squared_error(y_test, y_pred)\n",
        "print('Mean Squared Error',mse)"
      ],
      "metadata": {
        "colab": {
          "base_uri": "https://localhost:8080/"
        },
        "id": "cq7njcWH8Ws1",
        "outputId": "43f14580-ce0b-4341-f449-6155295a3606"
      },
      "execution_count": null,
      "outputs": [
        {
          "output_type": "stream",
          "name": "stdout",
          "text": [
            "Mean Squared Error 0.22389519068495414\n"
          ]
        }
      ]
    },
    {
      "cell_type": "code",
      "source": [
        "'''\n",
        "Q21. Train an AdaBoost Classifier and visualize feature importance\n",
        "'''\n",
        "#load datsets\n",
        "from sklearn.datasets import load_breast_cancer\n",
        "data=load_breast_cancer()\n",
        "\n",
        "#make dataframe\n",
        "df=pd.DataFrame(data.data,columns=data.feature_names)\n",
        "df['Target']=data.target\n",
        "\n",
        "#make x and y\n",
        "x=df.iloc[:,:-1]\n",
        "y=df.iloc[:,-1]\n",
        "\n",
        "#train test split\n",
        "from sklearn.model_selection import train_test_split\n",
        "x_train,x_test,y_train,y_test=train_test_split(x,y,test_size=0.2,random_state=1)\n",
        "\n",
        "#make classifier and fit\n",
        "from sklearn.ensemble import AdaBoostClassifier\n",
        "clf = AdaBoostClassifier(n_estimators=100)\n",
        "clf.fit(x_train, y_train)\n",
        "print(\"Feature Importances:\", clf.feature_importances_)"
      ],
      "metadata": {
        "colab": {
          "base_uri": "https://localhost:8080/"
        },
        "id": "-ZQS5KGbAe4J",
        "outputId": "f7afbde7-fb0b-4db9-8181-0331b06a382f"
      },
      "execution_count": null,
      "outputs": [
        {
          "output_type": "stream",
          "name": "stdout",
          "text": [
            "Feature Importances: [0.         0.06398891 0.         0.00848704 0.01128981 0.\n",
            " 0.03095904 0.02890383 0.06174904 0.         0.         0.01548924\n",
            " 0.07134835 0.0889085  0.01084793 0.0571324  0.01923722 0.0367049\n",
            " 0.00960311 0.03725266 0.         0.0674692  0.04216197 0.0748979\n",
            " 0.07586237 0.         0.05345067 0.06249432 0.04547131 0.02629028]\n"
          ]
        }
      ]
    },
    {
      "cell_type": "code",
      "source": [
        "'''\n",
        "Q22.Train a Gradient Boosting Regressor and plot learning curves\n",
        "'''\n",
        "# Load dataset\n",
        "from sklearn.datasets import fetch_california_housing\n",
        "data = fetch_california_housing()\n",
        "df = pd.DataFrame(data.data, columns=data.feature_names)\n",
        "df['Target'] = data.target\n",
        "\n",
        "# Features and target\n",
        "x = df.drop('Target', axis=1)\n",
        "y = df['Target']\n",
        "\n",
        "# Train-test split\n",
        "from sklearn.model_selection import train_test_split\n",
        "x_train, x_test, y_train, y_test = train_test_split(x, y, test_size=0.3,\n",
        "                                                    random_state=1)\n",
        "\n",
        "# Initialize regressor\n",
        "from sklearn.ensemble import GradientBoostingRegressor\n",
        "gbr = GradientBoostingRegressor(n_estimators=200, learning_rate=0.1,\n",
        "                                random_state=1)\n",
        "gbr.fit(x_train, y_train)\n",
        "# Lists to store MSEs\n",
        "train_mse = []\n",
        "val_mse = []\n",
        "\n",
        "# Train model and record MSE at each stage\n",
        "from sklearn.metrics import mean_squared_error\n",
        "for i, y_pred_train in enumerate(gbr.staged_predict(x_train)):\n",
        "    if i >= 1:\n",
        "        break  # Prevents staged_predict before fitting\n",
        "gbr.fit(x_train, y_train)\n",
        "for y_pred_train, y_pred_test in zip(gbr.staged_predict(x_train),\n",
        "                                    gbr.staged_predict(x_test)):\n",
        "    train_mse.append(mean_squared_error(y_train, y_pred_train))\n",
        "    val_mse.append(mean_squared_error(y_test, y_pred_test))\n",
        "\n",
        "# Plot learning curves\n",
        "plt.figure(figsize=(10, 6))\n",
        "plt.plot(train_mse, label='Training MSE')\n",
        "plt.plot(val_mse, label='Validation MSE')\n",
        "plt.xlabel('Number of Estimators')\n",
        "plt.ylabel('Mean Squared Error')\n",
        "plt.title('Gradient Boosting Regressor Learning Curves')\n",
        "plt.legend()\n",
        "plt.grid(True)\n",
        "plt.tight_layout()\n",
        "plt.show()\n"
      ],
      "metadata": {
        "colab": {
          "base_uri": "https://localhost:8080/",
          "height": 419
        },
        "id": "JmfnXvbxBILi",
        "outputId": "2aa0fe00-6044-4ceb-b3a7-2c0780e385be"
      },
      "execution_count": null,
      "outputs": [
        {
          "output_type": "display_data",
          "data": {
            "text/plain": [
              "<Figure size 1000x600 with 1 Axes>"
            ],
            "image/png": "[encoded data removed]"
          },
          "metadata": {}
        }
      ]
    },
    {
      "cell_type": "code",
      "source": [
        "'''\n",
        "Q23. Train an XGBoost Classifier and visualize feature importance\n",
        "'''\n",
        "#load datsets\n",
        "from sklearn.datasets import load_breast_cancer\n",
        "data=load_breast_cancer()\n",
        "\n",
        "#make dataframe\n",
        "df=pd.DataFrame(data.data,columns=data.feature_names)\n",
        "df['Price']=data.target\n",
        "\n",
        "#make x and y\n",
        "x=df.iloc[:,:-1]\n",
        "y=df.iloc[:,-1]\n",
        "\n",
        "#train test split\n",
        "from sklearn.model_selection import train_test_split\n",
        "x_train,x_test,y_train,y_test=train_test_split(x,y,test_size=0.3,random_state=1)\n",
        "\n",
        "\n",
        "#make classifier and fit for XGBoost classifier\n",
        "from xgboost import XGBClassifier\n",
        "xgb = XGBClassifier(eval_metric='mlogloss', use_label_encoder=False)\n",
        "xgb.fit(x_train, y_train)\n",
        "\n",
        "#print import features\n",
        "print(\"Feature Importances:\", xgb.feature_importances_)"
      ],
      "metadata": {
        "colab": {
          "base_uri": "https://localhost:8080/"
        },
        "id": "Q9SoQipcDC-6",
        "outputId": "6634c289-a5a4-413d-8992-1269f8fc54be"
      },
      "execution_count": null,
      "outputs": [
        {
          "output_type": "stream",
          "name": "stdout",
          "text": [
            "Feature Importances: [7.6938337e-03 1.6402636e-02 0.0000000e+00 0.0000000e+00 2.4473164e-03\n",
            " 0.0000000e+00 3.7442189e-02 1.6579108e-02 4.3888828e-03 1.3119117e-03\n",
            " 4.0864083e-03 3.5417075e-03 5.9682806e-03 5.6755343e-03 6.0065190e-04\n",
            " 2.2081284e-02 9.8826946e-04 1.1676612e-03 1.7540251e-03 3.8173434e-03\n",
            " 6.3705318e-02 2.5964702e-02 6.4853615e-01 1.8294025e-02 2.1986751e-02\n",
            " 1.6128380e-02 1.4705873e-02 4.6142329e-02 3.2394009e-03 5.3500533e-03]\n"
          ]
        }
      ]
    },
    {
      "cell_type": "code",
      "source": [
        "'''\n",
        "Q24. Train a CatBoost Classifier and plot the confusion matrix\n",
        "'''\n",
        "#load datsets\n",
        "from sklearn.datasets import load_breast_cancer\n",
        "data=load_breast_cancer()\n",
        "\n",
        "#make dataframe\n",
        "df=pd.DataFrame(data.data,columns=data.feature_names)\n",
        "df['Target']=data.target\n",
        "\n",
        "#make x and y\n",
        "x=df.iloc[:,:-1]\n",
        "y=df.iloc[:,-1]\n",
        "\n",
        "#train test split\n",
        "from sklearn.model_selection import train_test_split\n",
        "x_train,x_test,y_train,y_test=train_test_split(x,y,test_size=0.3,random_state=1)\n",
        "\n",
        "#make classifier and fit\n",
        "from catboost import CatBoostClassifier\n",
        "clf = CatBoostClassifier(verbose=0)\n",
        "clf.fit(x_train, y_train)\n",
        "\n",
        "#predict and print accuracy score\n",
        "from sklearn.metrics import ConfusionMatrixDisplay\n",
        "y_pred = clf.predict(x_test)\n",
        "ConfusionMatrixDisplay.from_predictions(y_test, y_pred)\n",
        "plt.title('CatBoost Confusion Matrix')\n",
        "plt.show()"
      ],
      "metadata": {
        "colab": {
          "base_uri": "https://localhost:8080/",
          "height": 472
        },
        "id": "1yEsdXmyD4hA",
        "outputId": "2ef8a086-f333-4f89-b621-fac6261d9ab9"
      },
      "execution_count": null,
      "outputs": [
        {
          "output_type": "display_data",
          "data": {
            "text/plain": [
              "<Figure size 640x480 with 2 Axes>"
            ],
            "image/png": "[encoded data removed]"
          },
          "metadata": {}
        }
      ]
    },
    {
      "cell_type": "code",
      "source": [
        "'''\n",
        "Q25. Train an AdaBoost Classifier with different numbers of estimators and\n",
        "compare accuracy\n",
        "'''\n",
        "#load datsets\n",
        "from sklearn.datasets import load_iris\n",
        "data=load_iris()\n",
        "\n",
        "#make dataframe\n",
        "df=pd.DataFrame(data.data,columns=data.feature_names)\n",
        "df['target']=data.target\n",
        "\n",
        "#make x and y\n",
        "x=df.iloc[:,:-1]\n",
        "y=df.iloc[:,-1]\n",
        "\n",
        "#train test split\n",
        "from sklearn.model_selection import train_test_split\n",
        "x_train,x_test,y_train,y_test=train_test_split(x,y,test_size=0.3,random_state=1)\n",
        "\n",
        "#different numbers of estimators and compare accuracy.\n",
        "from sklearn.metrics import accuracy_score\n",
        "for n in [10, 50, 100, 200]:\n",
        "    clf = AdaBoostClassifier(n_estimators=n)\n",
        "    clf.fit(x_train, y_train)\n",
        "    y_pred = clf.predict(x_test)\n",
        "    acc = accuracy_score(y_test, y_pred)\n",
        "    print(f\"n_estimators={n}: Accuracy={acc:.4f}\")"
      ],
      "metadata": {
        "colab": {
          "base_uri": "https://localhost:8080/"
        },
        "id": "1LcuBP4cEmOS",
        "outputId": "e494ed94-687a-44d5-eb41-619e94fff39e"
      },
      "execution_count": null,
      "outputs": [
        {
          "output_type": "stream",
          "name": "stdout",
          "text": [
            "n_estimators=10: Accuracy=0.9778\n",
            "n_estimators=50: Accuracy=0.9556\n",
            "n_estimators=100: Accuracy=0.9556\n",
            "n_estimators=200: Accuracy=0.9556\n"
          ]
        }
      ]
    },
    {
      "cell_type": "code",
      "source": [
        "'''\n",
        "Q26. Train a Gradient Boosting Classifier and visualize the ROC curve\n",
        "'''\n",
        "#load datsets\n",
        "from sklearn.datasets import load_breast_cancer\n",
        "data=load_breast_cancer()\n",
        "\n",
        "#make dataframe\n",
        "df=pd.DataFrame(data.data,columns=data.feature_names)\n",
        "df['Target']=data.target\n",
        "\n",
        "#make x and y\n",
        "x=df.iloc[:,:-1]\n",
        "y=df.iloc[:,-1]\n",
        "\n",
        "#train test split\n",
        "from sklearn.model_selection import train_test_split\n",
        "x_train,x_test,y_train,y_test=train_test_split(x,y,test_size=0.2,random_state=1)\n",
        "\n",
        "#make classifier and fit\n",
        "from sklearn.ensemble import GradientBoostingClassifier\n",
        "clf = GradientBoostingClassifier(n_estimators=100)\n",
        "clf.fit(x_train, y_train)\n",
        "\n",
        "#visualize the ROC curve\n",
        "from sklearn.metrics import roc_curve, auc\n",
        "\n",
        "gbc = GradientBoostingClassifier()\n",
        "gbc.fit(x_train, y_train)\n",
        "y_prob = gbc.predict_proba(x_test)[:, 1]\n",
        "fpr, tpr, _ = roc_curve(y_test, y_prob)\n",
        "roc_auc = auc(fpr, tpr)\n",
        "\n",
        "plt.plot(fpr, tpr, label=f'ROC curve (area = {roc_auc:.2f})')\n",
        "plt.plot([0, 1], [0, 1], linestyle='--')\n",
        "plt.xlabel('False Positive Rate')\n",
        "plt.ylabel('True Positive Rate')\n",
        "plt.title('Gradient Boosting ROC Curve')\n",
        "plt.legend()\n",
        "plt.show()\n"
      ],
      "metadata": {
        "colab": {
          "base_uri": "https://localhost:8080/",
          "height": 472
        },
        "id": "pkQfrEvDFMY4",
        "outputId": "e605a541-9257-4f99-bcdf-f8d72b3da792"
      },
      "execution_count": null,
      "outputs": [
        {
          "output_type": "display_data",
          "data": {
            "text/plain": [
              "<Figure size 640x480 with 1 Axes>"
            ],
            "image/png": "[encoded data removed]"
          },
          "metadata": {}
        }
      ]
    },
    {
      "cell_type": "code",
      "source": [
        "'''\n",
        "Q27 Train an XGBoost Regressor and tune the learning rate using GridSearchCV\n",
        "'''\n",
        "#load datsets\n",
        "from sklearn.datasets import fetch_california_housing\n",
        "data=fetch_california_housing()\n",
        "\n",
        "#make dataframe\n",
        "df=pd.DataFrame(data.data,columns=data.feature_names)\n",
        "df['Price']=data.target\n",
        "\n",
        "#make x and y\n",
        "x=df.iloc[:,:-1]\n",
        "y=df.iloc[:,-1]\n",
        "\n",
        "#train test split\n",
        "from sklearn.model_selection import train_test_split,GridSearchCV\n",
        "x_train,x_test,y_train,y_test=train_test_split(x,y,test_size=0.3,random_state=1)\n",
        "\n",
        "#make classifier and fit for XGBoot Regreessor\n",
        "from xgboost import XGBRegressor\n",
        "from sklearn.model_selection import GridSearchCV\n",
        "\n",
        "param_grid = {'learning_rate': [0.01, 0.05, 0.1, 0.2]}\n",
        "xgb_reg = XGBRegressor()\n",
        "grid = GridSearchCV(xgb_reg, param_grid, scoring='neg_mean_squared_error', cv=3)\n",
        "grid.fit(x_train, y_train)\n",
        "print(\"Best learning rate:\", grid.best_params_['learning_rate'])\n",
        "print(\"Best MSE:\", -grid.best_score_)\n"
      ],
      "metadata": {
        "colab": {
          "base_uri": "https://localhost:8080/"
        },
        "id": "vhriwng6GBP-",
        "outputId": "b04b02bf-7909-46a7-903e-1e8515677cbc"
      },
      "execution_count": null,
      "outputs": [
        {
          "output_type": "stream",
          "name": "stdout",
          "text": [
            "Best learning rate: 0.2\n",
            "Best MSE: 0.22918681166181712\n"
          ]
        }
      ]
    },
    {
      "cell_type": "code",
      "source": [
        "'''\n",
        "Q28.  Train a CatBoost Classifier on an imbalanced dataset and compare\n",
        "performance with class weighting\n",
        "'''\n",
        "#load datsets\n",
        "from sklearn.datasets import load_breast_cancer\n",
        "data=load_breast_cancer()\n",
        "\n",
        "#make dataframe\n",
        "df=pd.DataFrame(data.data,columns=data.feature_names)\n",
        "df['Target']=data.target\n",
        "\n",
        "#make x and y\n",
        "x=df.iloc[:,:-1]\n",
        "y=df.iloc[:,-1]\n",
        "\n",
        "#train test split\n",
        "from sklearn.model_selection import train_test_split\n",
        "x_train,x_test,y_train,y_test=train_test_split(x,y,test_size=0.3,random_state=1)\n",
        "\n",
        "# Compute class weights\n",
        "from sklearn.utils.class_weight import compute_class_weight\n",
        "classes = np.unique(y_train)\n",
        "class_weights = compute_class_weight('balanced', classes=classes, y=y_train)\n",
        "weights_dict = dict(zip(classes, class_weights))\n",
        "\n",
        "# Without class weights\n",
        "cat_clf = CatBoostClassifier(verbose=0)\n",
        "cat_clf.fit(x_train, y_train)\n",
        "y_pred = cat_clf.predict(x_test)\n",
        "print(\"Without class weights accuracy:\", accuracy_score(y_test, y_pred))"
      ],
      "metadata": {
        "colab": {
          "base_uri": "https://localhost:8080/"
        },
        "id": "uF5w5hEJG9wD",
        "outputId": "026bdb86-ff63-44c3-9303-47de73c1b3af"
      },
      "execution_count": null,
      "outputs": [
        {
          "output_type": "stream",
          "name": "stdout",
          "text": [
            "Without class weights accuracy: 0.9532163742690059\n"
          ]
        }
      ]
    },
    {
      "cell_type": "code",
      "source": [
        "'''\n",
        "29. Train an AdaBoost Classifier and analyze the effect of different\n",
        "learning rates\n",
        "'''\n",
        "#load datsets\n",
        "from sklearn.datasets import load_iris\n",
        "data=load_iris()\n",
        "\n",
        "#make dataframe\n",
        "df=pd.DataFrame(data.data,columns=data.feature_names)\n",
        "df['target']=data.target\n",
        "\n",
        "#make x and y\n",
        "x=df.iloc[:,:-1]\n",
        "y=df.iloc[:,-1]\n",
        "\n",
        "#train test split\n",
        "from sklearn.model_selection import train_test_split\n",
        "x_train,x_test,y_train,y_test=train_test_split(x,y,test_size=0.3,random_state=1)\n",
        "\n",
        "#make classifier and fit\n",
        "from sklearn.ensemble import AdaBoostClassifier\n",
        "for lr in [0.01, 0.1, 0.5, 1.0]:\n",
        "    clf = AdaBoostClassifier(learning_rate=lr)\n",
        "    clf.fit(x_train, y_train)\n",
        "    y_pred = clf.predict(x_test)\n",
        "    acc = accuracy_score(y_test, y_pred)\n",
        "    print(f\"learning_rate={lr}: Accuracy={acc:.4f}\")"
      ],
      "metadata": {
        "colab": {
          "base_uri": "https://localhost:8080/"
        },
        "id": "aTY_bP8sHvmk",
        "outputId": "eea0a6e0-f4cf-4fa7-81f1-1077339c0f18"
      },
      "execution_count": null,
      "outputs": [
        {
          "output_type": "stream",
          "name": "stdout",
          "text": [
            "learning_rate=0.01: Accuracy=0.6000\n",
            "learning_rate=0.1: Accuracy=0.9556\n",
            "learning_rate=0.5: Accuracy=0.9556\n",
            "learning_rate=1.0: Accuracy=0.9556\n"
          ]
        }
      ]
    },
    {
      "cell_type": "code",
      "source": [
        "'''\n",
        "Q30. Train an XGBoost Classifier for multi-class classification and evaluate\n",
        "using log-loss.\n",
        "'''\n",
        "#load datsets\n",
        "from sklearn.datasets import load_breast_cancer\n",
        "data=load_breast_cancer()\n",
        "\n",
        "#make dataframe\n",
        "df=pd.DataFrame(data.data,columns=data.feature_names)\n",
        "df['Price']=data.target\n",
        "\n",
        "#make x and y\n",
        "x=df.iloc[:,:-1]\n",
        "y=df.iloc[:,-1]\n",
        "\n",
        "#train test split\n",
        "from sklearn.model_selection import train_test_split\n",
        "x_train,x_test,y_train,y_test=train_test_split(x,y,test_size=0.3,random_state=1)\n",
        "\n",
        "\n",
        "#make classifier and fit for XGBoost classifier\n",
        "from xgboost import XGBClassifier\n",
        "xgb=XGBClassifier(objective='multi:softprob',num_class=len(np.unique(y_train)))\n",
        "xgb.fit(x_train, y_train)\n",
        "\n",
        "#print log loss\n",
        "from sklearn.metrics import log_loss\n",
        "y_pred_prob = xgb.predict_proba(x_test)\n",
        "logloss = log_loss(y_test, y_pred_prob)\n",
        "print(\"Log Loss:\", logloss)"
      ],
      "metadata": {
        "colab": {
          "base_uri": "https://localhost:8080/"
        },
        "id": "5EazU6mFIQBj",
        "outputId": "7aab6e86-a33c-4022-b0a6-5b7f6ad6bcd5"
      },
      "execution_count": null,
      "outputs": [
        {
          "output_type": "stream",
          "name": "stdout",
          "text": [
            "Log Loss: 0.15576270621703706\n"
          ]
        }
      ]
    },
    {
      "cell_type": "code",
      "source": [],
      "metadata": {
        "id": "iUsjISS_JJ6c"
      },
      "execution_count": null,
      "outputs": []
    }
  ]
}